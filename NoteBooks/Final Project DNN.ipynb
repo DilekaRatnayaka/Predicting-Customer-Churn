{
 "cells": [
  {
   "cell_type": "markdown",
   "id": "65022b03",
   "metadata": {},
   "source": [
    "## PH3022 - Final Project\n",
    "## Bank Customer churn status prediction classification\n",
    "\n",
    "## Classification with DNNs\n",
    "\n",
    "### Samuditha Saradindu (2020s18197)\n",
    "### s15437"
   ]
  },
  {
   "cell_type": "code",
   "execution_count": 1,
   "id": "a212737c",
   "metadata": {},
   "outputs": [],
   "source": [
    "#Importing necessary libraries\n",
    "import pandas as pd\n",
    "import numpy as np\n",
    "from sklearn.model_selection import train_test_split\n",
    "from sklearn.preprocessing import LabelEncoder, StandardScaler\n",
    "from tensorflow.keras.models import Model\n",
    "from tensorflow.keras.layers import Input, Dense\n",
    "from tensorflow.keras.utils import to_categorical\n",
    "from tensorflow.keras.models import Sequential"
   ]
  },
  {
   "cell_type": "code",
   "execution_count": 2,
   "id": "0bc0f2b1",
   "metadata": {},
   "outputs": [
    {
     "name": "stdout",
     "output_type": "stream",
     "text": [
      "Index(['customer_id', 'credit_score', 'country', 'gender', 'age',\n",
      "       'tenure (From how many years he/she is having bank acc in ABC Bank)',\n",
      "       'Account balance', 'products_number (Number of Product from bank)',\n",
      "       'credit_card (Is this customer have credit card ?)',\n",
      "       'active_member (Is he/she is active Member of bank ?)',\n",
      "       'estimated_salary', 'churn (Churn Status)'],\n",
      "      dtype='object')\n"
     ]
    }
   ],
   "source": [
    "#Loading the dataset\n",
    "df = pd.read_csv('Bank Customer Churn Prediction Classification Dataset.csv')\n",
    "print(df.columns)"
   ]
  },
  {
   "cell_type": "code",
   "execution_count": 3,
   "id": "28907d89",
   "metadata": {},
   "outputs": [],
   "source": [
    "#Filterring the target variable column to keep only 0 and 1 values\n",
    "df = df[df['churn (Churn Status)'].isin([0, 1])]"
   ]
  },
  {
   "cell_type": "code",
   "execution_count": 12,
   "id": "c8a58f70",
   "metadata": {},
   "outputs": [],
   "source": [
    "#Separating features and target variable\n",
    "X = df.drop('churn (Churn Status)', axis=1)\n",
    "y = df['churn (Churn Status)']"
   ]
  },
  {
   "cell_type": "code",
   "execution_count": 13,
   "id": "7d11b537",
   "metadata": {},
   "outputs": [],
   "source": [
    "#Encoding categorical variables\n",
    "X = pd.get_dummies(X)\n",
    "\n",
    "#Encoding the target variable\n",
    "label_encoder = LabelEncoder()\n",
    "y = label_encoder.fit_transform(y)\n",
    "\n",
    "#Converting y to categorical data type\n",
    "num_classes = len(np.unique(y))\n",
    "y = to_categorical(y, num_classes=num_classes)"
   ]
  },
  {
   "cell_type": "code",
   "execution_count": 14,
   "id": "8d88c11d",
   "metadata": {},
   "outputs": [],
   "source": [
    "#Splitting the data into train and test sets\n",
    "X_train, X_test, y_train, y_test = train_test_split(X, y, test_size=0.2, random_state=42)"
   ]
  },
  {
   "cell_type": "code",
   "execution_count": 15,
   "id": "43200562",
   "metadata": {},
   "outputs": [],
   "source": [
    "# Standardize the input features\n",
    "scaler = StandardScaler()\n",
    "X_train = scaler.fit_transform(X_train)\n",
    "X_test = scaler.transform(X_test)"
   ]
  },
  {
   "cell_type": "code",
   "execution_count": 16,
   "id": "07918a4b",
   "metadata": {},
   "outputs": [],
   "source": [
    "#Defining the model\n",
    "model = Sequential([\n",
    "    Dense(64, activation='relu', input_shape=(X_train.shape[1],)),\n",
    "    Dense(32, activation='relu'),\n",
    "    Dense(num_classes, activation='softmax')\n",
    "])"
   ]
  },
  {
   "cell_type": "code",
   "execution_count": 17,
   "id": "35ac77bd",
   "metadata": {},
   "outputs": [
    {
     "name": "stdout",
     "output_type": "stream",
     "text": [
      "Epoch 1/50\n",
      "251/251 [==============================] - 2s 6ms/step - loss: 0.5383 - accuracy: 0.7904 - val_loss: 0.4837 - val_accuracy: 0.8137\n",
      "Epoch 2/50\n",
      "251/251 [==============================] - 1s 3ms/step - loss: 0.5114 - accuracy: 0.7920 - val_loss: 0.4819 - val_accuracy: 0.8137\n",
      "Epoch 3/50\n",
      "251/251 [==============================] - 1s 3ms/step - loss: 0.5116 - accuracy: 0.7920 - val_loss: 0.4816 - val_accuracy: 0.8137\n",
      "Epoch 4/50\n",
      "251/251 [==============================] - 1s 4ms/step - loss: 0.5115 - accuracy: 0.7920 - val_loss: 0.4820 - val_accuracy: 0.8137\n",
      "Epoch 5/50\n",
      "251/251 [==============================] - 1s 3ms/step - loss: 0.5118 - accuracy: 0.7920 - val_loss: 0.4815 - val_accuracy: 0.8137\n",
      "Epoch 6/50\n",
      "251/251 [==============================] - 1s 3ms/step - loss: 0.5116 - accuracy: 0.7920 - val_loss: 0.4817 - val_accuracy: 0.8137\n",
      "Epoch 7/50\n",
      "251/251 [==============================] - 1s 3ms/step - loss: 0.5115 - accuracy: 0.7920 - val_loss: 0.4849 - val_accuracy: 0.8137\n",
      "Epoch 8/50\n",
      "251/251 [==============================] - 1s 3ms/step - loss: 0.5117 - accuracy: 0.7920 - val_loss: 0.4812 - val_accuracy: 0.8137\n",
      "Epoch 9/50\n",
      "251/251 [==============================] - 1s 3ms/step - loss: 0.5119 - accuracy: 0.7920 - val_loss: 0.4817 - val_accuracy: 0.8137\n",
      "Epoch 10/50\n",
      "251/251 [==============================] - 1s 3ms/step - loss: 0.5116 - accuracy: 0.7920 - val_loss: 0.4817 - val_accuracy: 0.8137\n",
      "Epoch 11/50\n",
      "251/251 [==============================] - 1s 4ms/step - loss: 0.5117 - accuracy: 0.7920 - val_loss: 0.4821 - val_accuracy: 0.8137\n",
      "Epoch 12/50\n",
      "251/251 [==============================] - 1s 4ms/step - loss: 0.5116 - accuracy: 0.7920 - val_loss: 0.4826 - val_accuracy: 0.8137\n",
      "Epoch 13/50\n",
      "251/251 [==============================] - 1s 4ms/step - loss: 0.5119 - accuracy: 0.7920 - val_loss: 0.4832 - val_accuracy: 0.8137\n",
      "Epoch 14/50\n",
      "251/251 [==============================] - 1s 3ms/step - loss: 0.5116 - accuracy: 0.7920 - val_loss: 0.4833 - val_accuracy: 0.8137\n",
      "Epoch 15/50\n",
      "251/251 [==============================] - 1s 4ms/step - loss: 0.5115 - accuracy: 0.7920 - val_loss: 0.4841 - val_accuracy: 0.8137\n",
      "Epoch 16/50\n",
      "251/251 [==============================] - 1s 4ms/step - loss: 0.5116 - accuracy: 0.7920 - val_loss: 0.4840 - val_accuracy: 0.8137\n",
      "Epoch 17/50\n",
      "251/251 [==============================] - 1s 4ms/step - loss: 0.5116 - accuracy: 0.7920 - val_loss: 0.4816 - val_accuracy: 0.8137\n",
      "Epoch 18/50\n",
      "251/251 [==============================] - 1s 3ms/step - loss: 0.5120 - accuracy: 0.7920 - val_loss: 0.4836 - val_accuracy: 0.8137\n",
      "Epoch 19/50\n",
      "251/251 [==============================] - 1s 3ms/step - loss: 0.5116 - accuracy: 0.7920 - val_loss: 0.4813 - val_accuracy: 0.8137\n",
      "Epoch 20/50\n",
      "251/251 [==============================] - 1s 4ms/step - loss: 0.5116 - accuracy: 0.7920 - val_loss: 0.4836 - val_accuracy: 0.8137\n",
      "Epoch 21/50\n",
      "251/251 [==============================] - 1s 4ms/step - loss: 0.5118 - accuracy: 0.7920 - val_loss: 0.4825 - val_accuracy: 0.8137\n",
      "Epoch 22/50\n",
      "251/251 [==============================] - 1s 3ms/step - loss: 0.5115 - accuracy: 0.7920 - val_loss: 0.4832 - val_accuracy: 0.8137\n",
      "Epoch 23/50\n",
      "251/251 [==============================] - 1s 3ms/step - loss: 0.5117 - accuracy: 0.7920 - val_loss: 0.4821 - val_accuracy: 0.8137\n",
      "Epoch 24/50\n",
      "251/251 [==============================] - 1s 4ms/step - loss: 0.5113 - accuracy: 0.7920 - val_loss: 0.4861 - val_accuracy: 0.8137\n",
      "Epoch 25/50\n",
      "251/251 [==============================] - 1s 3ms/step - loss: 0.5117 - accuracy: 0.7920 - val_loss: 0.4829 - val_accuracy: 0.8137\n",
      "Epoch 26/50\n",
      "251/251 [==============================] - 1s 4ms/step - loss: 0.5115 - accuracy: 0.7920 - val_loss: 0.4838 - val_accuracy: 0.8137\n",
      "Epoch 27/50\n",
      "251/251 [==============================] - 1s 4ms/step - loss: 0.5114 - accuracy: 0.7920 - val_loss: 0.4810 - val_accuracy: 0.8137\n",
      "Epoch 28/50\n",
      "251/251 [==============================] - 1s 4ms/step - loss: 0.5115 - accuracy: 0.7920 - val_loss: 0.4809 - val_accuracy: 0.8137\n",
      "Epoch 29/50\n",
      "251/251 [==============================] - 1s 3ms/step - loss: 0.5116 - accuracy: 0.7920 - val_loss: 0.4820 - val_accuracy: 0.8137\n",
      "Epoch 30/50\n",
      "251/251 [==============================] - 1s 4ms/step - loss: 0.5116 - accuracy: 0.7920 - val_loss: 0.4828 - val_accuracy: 0.8137\n",
      "Epoch 31/50\n",
      "251/251 [==============================] - 1s 4ms/step - loss: 0.5116 - accuracy: 0.7920 - val_loss: 0.4813 - val_accuracy: 0.8137\n",
      "Epoch 32/50\n",
      "251/251 [==============================] - 1s 4ms/step - loss: 0.5116 - accuracy: 0.7920 - val_loss: 0.4844 - val_accuracy: 0.8137\n",
      "Epoch 33/50\n",
      "251/251 [==============================] - 1s 5ms/step - loss: 0.5116 - accuracy: 0.7920 - val_loss: 0.4822 - val_accuracy: 0.8137\n",
      "Epoch 34/50\n",
      "251/251 [==============================] - 1s 4ms/step - loss: 0.5117 - accuracy: 0.7920 - val_loss: 0.4819 - val_accuracy: 0.8137\n",
      "Epoch 35/50\n",
      "251/251 [==============================] - 1s 4ms/step - loss: 0.5117 - accuracy: 0.7920 - val_loss: 0.4814 - val_accuracy: 0.8137\n",
      "Epoch 36/50\n",
      "251/251 [==============================] - 1s 4ms/step - loss: 0.5117 - accuracy: 0.7920 - val_loss: 0.4830 - val_accuracy: 0.8137\n",
      "Epoch 37/50\n",
      "251/251 [==============================] - 1s 3ms/step - loss: 0.5117 - accuracy: 0.7920 - val_loss: 0.4829 - val_accuracy: 0.8137\n",
      "Epoch 38/50\n",
      "251/251 [==============================] - 1s 4ms/step - loss: 0.5115 - accuracy: 0.7920 - val_loss: 0.4840 - val_accuracy: 0.8137\n",
      "Epoch 39/50\n",
      "251/251 [==============================] - 1s 4ms/step - loss: 0.5117 - accuracy: 0.7920 - val_loss: 0.4841 - val_accuracy: 0.8137\n",
      "Epoch 40/50\n",
      "251/251 [==============================] - 1s 3ms/step - loss: 0.5116 - accuracy: 0.7920 - val_loss: 0.4848 - val_accuracy: 0.8137\n",
      "Epoch 41/50\n",
      "251/251 [==============================] - 1s 3ms/step - loss: 0.5119 - accuracy: 0.7920 - val_loss: 0.4821 - val_accuracy: 0.8137\n",
      "Epoch 42/50\n",
      "251/251 [==============================] - 1s 3ms/step - loss: 0.5117 - accuracy: 0.7920 - val_loss: 0.4820 - val_accuracy: 0.8137\n",
      "Epoch 43/50\n",
      "251/251 [==============================] - 1s 4ms/step - loss: 0.5116 - accuracy: 0.7920 - val_loss: 0.4822 - val_accuracy: 0.8137\n",
      "Epoch 44/50\n",
      "251/251 [==============================] - 1s 3ms/step - loss: 0.5116 - accuracy: 0.7920 - val_loss: 0.4839 - val_accuracy: 0.8137\n",
      "Epoch 45/50\n",
      "251/251 [==============================] - 1s 4ms/step - loss: 0.5114 - accuracy: 0.7920 - val_loss: 0.4819 - val_accuracy: 0.8137\n",
      "Epoch 46/50\n",
      "251/251 [==============================] - 1s 4ms/step - loss: 0.5113 - accuracy: 0.7920 - val_loss: 0.4809 - val_accuracy: 0.8137\n",
      "Epoch 47/50\n",
      "251/251 [==============================] - 1s 4ms/step - loss: 0.5115 - accuracy: 0.7920 - val_loss: 0.4832 - val_accuracy: 0.8137\n",
      "Epoch 48/50\n",
      "251/251 [==============================] - 1s 4ms/step - loss: 0.5115 - accuracy: 0.7920 - val_loss: 0.4813 - val_accuracy: 0.8137\n",
      "Epoch 49/50\n",
      "251/251 [==============================] - 1s 4ms/step - loss: 0.5118 - accuracy: 0.7920 - val_loss: 0.4845 - val_accuracy: 0.8137\n",
      "Epoch 50/50\n",
      "251/251 [==============================] - 1s 4ms/step - loss: 0.5117 - accuracy: 0.7920 - val_loss: 0.4818 - val_accuracy: 0.8137\n"
     ]
    },
    {
     "data": {
      "text/plain": [
       "<keras.callbacks.History at 0x16b5ad5c610>"
      ]
     },
     "execution_count": 17,
     "metadata": {},
     "output_type": "execute_result"
    }
   ],
   "source": [
    "#Compiling and training the model\n",
    "model.compile(optimizer='adam', loss='categorical_crossentropy', metrics=['accuracy'])\n",
    "\n",
    "model.fit(X_train, y_train, epochs=50, batch_size=32, validation_data=(X_test, y_test))"
   ]
  },
  {
   "cell_type": "code",
   "execution_count": 18,
   "id": "e7536846",
   "metadata": {},
   "outputs": [
    {
     "name": "stdout",
     "output_type": "stream",
     "text": [
      "63/63 [==============================] - 0s 2ms/step - loss: 0.4818 - accuracy: 0.8137\n",
      "Test accuracy: 0.8136863112449646\n"
     ]
    }
   ],
   "source": [
    "#Evaluating the model\n",
    "loss, accuracy = model.evaluate(X_test, y_test)\n",
    "print(f'Test accuracy: {accuracy}')"
   ]
  },
  {
   "cell_type": "code",
   "execution_count": null,
   "id": "c289e8dc",
   "metadata": {},
   "outputs": [],
   "source": []
  }
 ],
 "metadata": {
  "kernelspec": {
   "display_name": "myenv",
   "language": "python",
   "name": "myenv"
  },
  "language_info": {
   "codemirror_mode": {
    "name": "ipython",
    "version": 3
   },
   "file_extension": ".py",
   "mimetype": "text/x-python",
   "name": "python",
   "nbconvert_exporter": "python",
   "pygments_lexer": "ipython3",
   "version": "3.9.18"
  }
 },
 "nbformat": 4,
 "nbformat_minor": 5
}
